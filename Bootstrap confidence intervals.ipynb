{
 "cells": [
  {
   "cell_type": "markdown",
   "metadata": {
    "colab_type": "text",
    "id": "fct-NTjcYNZ0"
   },
   "source": [
    "# Empirical bootstrap based Confidence Interval"
   ]
  },
  {
   "cell_type": "markdown",
   "metadata": {},
   "source": [
    "If distribution is Normal with a given sigma(S.D) we can estimate 95% C.I of a mean using central limit theorem.\n",
    "\n",
    "<i>Now suppose the data is drawn from some completely unknown distribution. To have a\n",
    "name we’ll call this distribution F and its (unknown) mean µ. We can still use the sample\n",
    "mean x as a point estimate of µ. But how can we find a confidence interval for µ around\n",
    "x? Our answer will be to use the bootstrap!</i>\n",
    "\n",
    "* Our task is to estimate 80% C.I of mean\n",
    "\n",
    "<b>Algo:</b>\n",
    "* Create a sample(S) of size n say {x1, x2, .... xn}\n",
    "* From sample S create k samples {s1, s2 .... sk} of size m<=n without replacement \n",
    "* Find mean each k samples and sort it. {m1, m2, ... mk} say k =1000\n",
    "* Hence 80% C.I of mean F would be in range [m100, m900]\n",
    "\n",
    "<b>For more information:</b>https://ocw.mit.edu/courses/mathematics/18-05-introduction-to-probability-and-statistics-spring-2014/readings/MIT18_05S14_Reading24.pdf\n"
   ]
  },
  {
   "cell_type": "code",
   "execution_count": 15,
   "metadata": {
    "colab": {},
    "colab_type": "code",
    "id": "1Z7NCqEcYNZ4",
    "outputId": "04b1a8a4-89e4-4edb-cc7b-504947fc3116"
   },
   "outputs": [
    {
     "data": {
      "image/png": "[encoded data removed]",
      "text/plain": [
       "<Figure size 432x288 with 1 Axes>"
      ]
     },
     "metadata": {
      "needs_background": "light"
     },
     "output_type": "display_data"
    },
    {
     "name": "stdout",
     "output_type": "stream",
     "text": [
      "80.0 confidence interval 38.3 and 42.0\n"
     ]
    }
   ],
   "source": [
    "import numpy\n",
    "from sklearn.utils import resample\n",
    "from matplotlib import pyplot\n",
    "\n",
    "# load dataset\n",
    "\n",
    "x = numpy.array([30, 37, 36, 43, 42, 43, 43, 46, 41, 42])\n",
    "\n",
    "# configure bootstrap\n",
    "n_iterations = 1000 #this is k\n",
    "n_size = int(len(x))\n",
    "\n",
    "# run bootstrap\n",
    "means = list()\n",
    "for i in range(n_iterations):\n",
    "    # prepare train and test sets\n",
    "    s = resample(x, n_samples=n_size);\n",
    "    m = numpy.mean(s);\n",
    "    #print(m)\n",
    "    means.append(m)\n",
    "\n",
    "# plot scores\n",
    "pyplot.hist(means)\n",
    "pyplot.show()\n",
    "\n",
    "# confidence intervals\n",
    "alpha = 0.8\n",
    "p = ((1.0-alpha)/2.0) * 100\n",
    "lower =  numpy.percentile(means, p)\n",
    "\n",
    "p = (alpha+((1.0-alpha)/2.0)) * 100\n",
    "upper =  numpy.percentile(means, p)\n",
    "print('%.1f confidence interval %.1f and %.1f' % (alpha*100, lower, upper))\n",
    "\n"
   ]
  },
  {
   "cell_type": "markdown",
   "metadata": {
    "colab": {},
    "colab_type": "code",
    "id": "0GdCL0KzYNZ_"
   },
   "source": [
    "<b><i> We can also calculate median & S.D of same</i></b>"
   ]
  },
  {
   "cell_type": "code",
   "execution_count": null,
   "metadata": {},
   "outputs": [],
   "source": []
  }
 ],
 "metadata": {
  "colab": {
   "name": "12.23.ipynb",
   "provenance": [],
   "version": "0.3.2"
  },
  "kernelspec": {
   "display_name": "Python 3",
   "language": "python",
   "name": "python3"
  },
  "language_info": {
   "codemirror_mode": {
    "name": "ipython",
    "version": 3
   },
   "file_extension": ".py",
   "mimetype": "text/x-python",
   "name": "python",
   "nbconvert_exporter": "python",
   "pygments_lexer": "ipython3",
   "version": "3.7.1"
  }
 },
 "nbformat": 4,
 "nbformat_minor": 1
}
