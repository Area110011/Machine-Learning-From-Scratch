{
 "cells": [
  {
   "cell_type": "markdown",
   "metadata": {},
   "source": [
    "## The data\n",
    "Consider the following 5 point synthetic data set:\n",
    "\n",
    "(X,Y): (0,1) (1,3) (2,7) (3,13) (4,21)\n",
    "\n",
    "Our target to find the hyperplane(straight line, this case) that will give minimum RSS(Residual sum of squre) error. "
   ]
  },
  {
   "cell_type": "code",
   "execution_count": 14,
   "metadata": {},
   "outputs": [
    {
     "name": "stdout",
     "output_type": "stream",
     "text": [
      "True value:  [1, 3, 7, 13, 21]\n",
      "predicted value [-0.9942069818917416, 4.003760937079127, 9.001728856049995, 13.999696775020864, 18.99766469399173]\n",
      "intercept: -0.9942069818917416  and slope: 4.997967918970868\n"
     ]
    }
   ],
   "source": [
    "import math\n",
    "x=[0,1,2,3,4]\n",
    "y=[1,3,7,13,21]\n",
    "n=len(x)\n",
    "prediction =[0]*5 #initialisation \n",
    "intercept =0\n",
    "slope=0\n",
    "step_size=0.05 #can choose any number that make sense.\n",
    "magnitude=1;\n",
    "tolerence =0.01 #we continue till magnitude is lesser than it.\n",
    "error =[0]*5 # this will calculate error between true value and predicted value.\n",
    "while magnitude>tolerence:\n",
    "    sum_i=0\n",
    "    sum_s=0\n",
    "    for i in range(n):\n",
    "        error[i]=prediction[i]-y[i]\n",
    "    for i in range(n):\n",
    "        sum_i+=error[i]\n",
    "    #update intercept\n",
    "    adjust =step_size*sum_i\n",
    "    intercept -=adjust\n",
    "    #update slope\n",
    "    for i in range(n):\n",
    "        sum_s+=x[i]*error[i]\n",
    "    adjust=step_size*sum_s\n",
    "    slope-=adjust\n",
    "    for i in range(n):\n",
    "        prediction[i]=intercept + slope*x[i]\n",
    "    \n",
    "    magnitude = math.sqrt(pow(sum_i,2)+pow(sum_s,2))\n",
    "    \n",
    "print(\"True value: \",y)\n",
    "print(\"predicted value\", prediction)\n",
    "print(\"intercept:\", intercept,\" and slope:\",slope)"
   ]
  },
  {
   "cell_type": "markdown",
   "metadata": {},
   "source": [
    " We can see that Gradient descent algorithm works pretty well"
   ]
  },
  {
   "cell_type": "code",
   "execution_count": null,
   "metadata": {
    "collapsed": true
   },
   "outputs": [],
   "source": []
  }
 ],
 "metadata": {
  "kernelspec": {
   "display_name": "Python 3",
   "language": "python",
   "name": "python3"
  },
  "language_info": {
   "codemirror_mode": {
    "name": "ipython",
    "version": 3
   },
   "file_extension": ".py",
   "mimetype": "text/x-python",
   "name": "python",
   "nbconvert_exporter": "python",
   "pygments_lexer": "ipython3",
   "version": "3.6.1"
  }
 },
 "nbformat": 4,
 "nbformat_minor": 2
}
